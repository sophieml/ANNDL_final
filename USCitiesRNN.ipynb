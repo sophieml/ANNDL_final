{
  "nbformat": 4,
  "nbformat_minor": 0,
  "metadata": {
    "colab": {
      "name": "USCitiesRNN.ipynb",
      "provenance": [],
      "collapsed_sections": []
    },
    "kernelspec": {
      "name": "python3",
      "display_name": "Python 3"
    }
  },
  "cells": [
    {
      "cell_type": "code",
      "metadata": {
        "id": "gVBC2q1ujdQC",
        "colab_type": "code",
        "colab": {}
      },
      "source": [
        "import pandas as pd\n",
        "import numpy as np\n",
        "import string\n",
        "import io\n",
        "import tensorflow as tf"
      ],
      "execution_count": 0,
      "outputs": []
    },
    {
      "cell_type": "code",
      "metadata": {
        "id": "ug8d9T_SnEp8",
        "colab_type": "code",
        "outputId": "0cfcabbe-55c2-494c-896a-69f3fb55bf43",
        "colab": {
          "resources": {
            "http://localhost:8080/nbextensions/google.colab/files.js": {
              "data": "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",
              "ok": true,
              "headers": [
                [
                  "content-type",
                  "application/javascript"
                ]
              ],
              "status": 200,
              "status_text": ""
            }
          },
          "base_uri": "https://localhost:8080/",
          "height": 74
        }
      },
      "source": [
        "# Load data\n",
        "from google.colab import files\n",
        "uploaded = files.upload()"
      ],
      "execution_count": 3,
      "outputs": [
        {
          "output_type": "display_data",
          "data": {
            "text/html": [
              "\n",
              "     <input type=\"file\" id=\"files-9d7e660e-aa29-46bd-8687-82485540ce6d\" name=\"files[]\" multiple disabled />\n",
              "     <output id=\"result-9d7e660e-aa29-46bd-8687-82485540ce6d\">\n",
              "      Upload widget is only available when the cell has been executed in the\n",
              "      current browser session. Please rerun this cell to enable.\n",
              "      </output>\n",
              "      <script src=\"/nbextensions/google.colab/files.js\"></script> "
            ],
            "text/plain": [
              "<IPython.core.display.HTML object>"
            ]
          },
          "metadata": {
            "tags": []
          }
        },
        {
          "output_type": "stream",
          "text": [
            "Saving data.csv to data.csv\n"
          ],
          "name": "stdout"
        }
      ]
    },
    {
      "cell_type": "code",
      "metadata": {
        "id": "xfIzZYHso2Z0",
        "colab_type": "code",
        "outputId": "cba3aaed-2eef-4395-b55c-400a819910aa",
        "colab": {
          "base_uri": "https://localhost:8080/",
          "height": 54
        }
      },
      "source": [
        "# Create character mapping\n",
        "df = pd.read_csv(io.StringIO(uploaded['data.csv'].decode('utf-8')))\n",
        "regions = list(set(df['region']))\n",
        "df['city'] = df['city'] + '|' # EOL character\n",
        "n_regions = len(regions)\n",
        "\n",
        "chars = sorted(list(set(df['city'].to_string())))\n",
        "char_indices = dict((c, i+1) for i, c in enumerate(chars))\n",
        "indices_char = dict((i+1, c) for i, c in enumerate(chars))\n",
        "n_chars = len(chars)"
      ],
      "execution_count": 4,
      "outputs": [
        {
          "output_type": "stream",
          "text": [
            "{1: '\\n', 2: ' ', 3: \"'\", 4: ',', 5: '-', 6: '.', 7: '0', 8: '1', 9: '2', 10: '3', 11: '4', 12: '5', 13: '6', 14: '7', 15: '8', 16: '9', 17: 'A', 18: 'B', 19: 'C', 20: 'D', 21: 'E', 22: 'F', 23: 'G', 24: 'H', 25: 'I', 26: 'J', 27: 'K', 28: 'L', 29: 'M', 30: 'N', 31: 'O', 32: 'P', 33: 'Q', 34: 'R', 35: 'S', 36: 'T', 37: 'U', 38: 'V', 39: 'W', 40: 'X', 41: 'Y', 42: 'Z', 43: 'a', 44: 'b', 45: 'c', 46: 'd', 47: 'e', 48: 'f', 49: 'g', 50: 'h', 51: 'i', 52: 'j', 53: 'k', 54: 'l', 55: 'm', 56: 'n', 57: 'o', 58: 'p', 59: 'q', 60: 'r', 61: 's', 62: 't', 63: 'u', 64: 'v', 65: 'w', 66: 'x', 67: 'y', 68: 'z', 69: '|', 70: 'á', 71: 'é', 72: 'ñ'}\n"
          ],
          "name": "stdout"
        }
      ]
    },
    {
      "cell_type": "code",
      "metadata": {
        "id": "wHZB5bQF5UbI",
        "colab_type": "code",
        "colab": {}
      },
      "source": [
        "region_keys = dict(zip(set(df['region']), range(len(chars)+1,len(chars)+1+len(regions)))) # character mapping for regions"
      ],
      "execution_count": 0,
      "outputs": []
    },
    {
      "cell_type": "code",
      "metadata": {
        "id": "fqFcmZrX2403",
        "colab_type": "code",
        "colab": {}
      },
      "source": [
        "# encoded category vector\n",
        "category_vec = np.zeros((len(df),))\n",
        "for i in range(len(df)):\n",
        "  r = df[\"region\"][i]\n",
        "  category_vec[i] = region_keys[r]\n",
        "category_vec = category_vec.reshape(-1, 1)"
      ],
      "execution_count": 0,
      "outputs": []
    },
    {
      "cell_type": "code",
      "metadata": {
        "id": "vNuD1gDJpCTZ",
        "colab_type": "code",
        "colab": {}
      },
      "source": [
        "# encoded input, output sequences\n",
        "x = np.zeros((len(df), ), dtype=object)\n",
        "y = np.zeros((len(df), ), dtype=object)\n",
        "\n",
        "for i in range(len(df)):\n",
        "  inp = np.zeros(len(df[\"city\"][i])-1)\n",
        "  out = np.zeros(len(df[\"city\"][i]))\n",
        "  out[0] = char_indices[df[\"city\"][i][0]] # add char after category vector to output vector\n",
        "  for j in range(len(df[\"city\"][i])-1):\n",
        "    inp[j] = char_indices[df[\"city\"][i][j]]\n",
        "    out[j+1] = char_indices[df[\"city\"][i][j+1]]\n",
        "  x[i, ] = inp\n",
        "  y[i, ] = out"
      ],
      "execution_count": 0,
      "outputs": []
    },
    {
      "cell_type": "code",
      "metadata": {
        "id": "v6qtk9JwppcF",
        "colab_type": "code",
        "colab": {}
      },
      "source": [
        "# pad vectors\n",
        "x_pad = tf.keras.preprocessing.sequence.pad_sequences(x, padding='post')\n",
        "y_pad = tf.keras.preprocessing.sequence.pad_sequences(y, padding='post')"
      ],
      "execution_count": 0,
      "outputs": []
    },
    {
      "cell_type": "code",
      "metadata": {
        "id": "gTxv0zbV3xbI",
        "colab_type": "code",
        "colab": {}
      },
      "source": [
        "# add category vector to input vector\n",
        "x_concat = np.hstack((category_vec, x_pad))"
      ],
      "execution_count": 0,
      "outputs": []
    },
    {
      "cell_type": "code",
      "metadata": {
        "id": "4czTZzEp7rga",
        "colab_type": "code",
        "outputId": "f651aed9-0677-4ced-964f-d4c14da071f4",
        "colab": {
          "base_uri": "https://localhost:8080/",
          "height": 252
        }
      },
      "source": [
        "# model definition\n",
        "embedding_dim = 3\n",
        "\n",
        "rnn_units = 256\n",
        "def build_model(embedding_dim, rnn_units, batch_size):\n",
        "  model = tf.keras.Sequential([\n",
        "    tf.keras.layers.Embedding(n_chars+n_regions+1, embedding_dim,\n",
        "                              batch_input_shape=[batch_size, None], mask_zero=True),\n",
        "    tf.keras.layers.LSTM(rnn_units,\n",
        "                         stateful=True,\n",
        "                        return_sequences=True),\n",
        "    tf.keras.layers.Dense(n_chars+n_regions+1)\n",
        "  ])\n",
        "  return model\n",
        "\n",
        "model = build_model(\n",
        "  embedding_dim=embedding_dim,\n",
        "  rnn_units=rnn_units,\n",
        "  batch_size=64)\n",
        "model.summary()"
      ],
      "execution_count": 10,
      "outputs": [
        {
          "output_type": "stream",
          "text": [
            "Model: \"sequential\"\n",
            "_________________________________________________________________\n",
            "Layer (type)                 Output Shape              Param #   \n",
            "=================================================================\n",
            "embedding (Embedding)        (64, None, 3)             231       \n",
            "_________________________________________________________________\n",
            "lstm (LSTM)                  (64, None, 256)           266240    \n",
            "_________________________________________________________________\n",
            "dense (Dense)                (64, None, 77)            19789     \n",
            "=================================================================\n",
            "Total params: 286,260\n",
            "Trainable params: 286,260\n",
            "Non-trainable params: 0\n",
            "_________________________________________________________________\n"
          ],
          "name": "stdout"
        }
      ]
    },
    {
      "cell_type": "code",
      "metadata": {
        "id": "WhPSdVRjtNMQ",
        "colab_type": "code",
        "outputId": "ccf05ea0-b6dd-411e-87bb-c27d865af3d6",
        "colab": {
          "base_uri": "https://localhost:8080/",
          "height": 34
        }
      },
      "source": [
        "# Create TF dataset to make batch creation easier\n",
        "dataset = tf.data.Dataset.from_tensor_slices((x_concat, y_pad))\n",
        "# Batch size\n",
        "BATCH_SIZE = 64\n",
        "\n",
        "BUFFER_SIZE = 10000\n",
        "\n",
        "dataset = dataset.shuffle(BUFFER_SIZE).batch(BATCH_SIZE, drop_remainder=True)\n",
        "\n",
        "dataset"
      ],
      "execution_count": 11,
      "outputs": [
        {
          "output_type": "execute_result",
          "data": {
            "text/plain": [
              "<BatchDataset shapes: ((64, 36), (64, 36)), types: (tf.float64, tf.int32)>"
            ]
          },
          "metadata": {
            "tags": []
          },
          "execution_count": 11
        }
      ]
    },
    {
      "cell_type": "code",
      "metadata": {
        "id": "b9AJWLTA4jnB",
        "colab_type": "code",
        "colab": {}
      },
      "source": [
        "# using sparse categorical crossentropy since we're using integer coding\n",
        "def loss(labels, logits):\n",
        "  return tf.keras.losses.sparse_categorical_crossentropy(labels, logits, from_logits=True)\n",
        "\n",
        "model.compile(optimizer='adam', loss=loss)"
      ],
      "execution_count": 0,
      "outputs": []
    },
    {
      "cell_type": "code",
      "metadata": {
        "id": "VNFWzVVUEWLy",
        "colab_type": "code",
        "outputId": "a32d448f-3532-4980-eeea-849122face95",
        "colab": {
          "base_uri": "https://localhost:8080/",
          "height": 121
        }
      },
      "source": [
        "# mount drive for google colab\n",
        "from google.colab import drive\n",
        "drive.mount('/content/gdrive/')"
      ],
      "execution_count": 13,
      "outputs": [
        {
          "output_type": "stream",
          "text": [
            "Go to this URL in a browser: https://accounts.google.com/o/oauth2/auth?client_id=947318989803-6bn6qk8qdgf4n4g3pfee6491hc0brc4i.apps.googleusercontent.com&redirect_uri=urn%3aietf%3awg%3aoauth%3a2.0%3aoob&response_type=code&scope=email%20https%3a%2f%2fwww.googleapis.com%2fauth%2fdocs.test%20https%3a%2f%2fwww.googleapis.com%2fauth%2fdrive%20https%3a%2f%2fwww.googleapis.com%2fauth%2fdrive.photos.readonly%20https%3a%2f%2fwww.googleapis.com%2fauth%2fpeopleapi.readonly\n",
            "\n",
            "Enter your authorization code:\n",
            "··········\n",
            "Mounted at /content/gdrive/\n"
          ],
          "name": "stdout"
        }
      ]
    },
    {
      "cell_type": "code",
      "metadata": {
        "id": "Q4Lic7RHB79F",
        "colab_type": "code",
        "colab": {}
      },
      "source": [
        "# save checkpoints\n",
        "checkpoint_dir = '/content/gdrive/My Drive/training_regions_stop_3_nodropout/cp_{epoch}.ckpt'\n",
        "\n",
        "checkpoint_callback=tf.keras.callbacks.ModelCheckpoint(\n",
        "    filepath=checkpoint_dir,\n",
        "    save_weights_only=True)"
      ],
      "execution_count": 0,
      "outputs": []
    },
    {
      "cell_type": "code",
      "metadata": {
        "id": "5NoNZKm14zbN",
        "colab_type": "code",
        "outputId": "ea79dc32-df52-4a0a-b65a-a9fb11cfa461",
        "colab": {
          "base_uri": "https://localhost:8080/",
          "height": 1000
        }
      },
      "source": [
        "# train model\n",
        "history = model.fit(dataset, epochs=40, callbacks = [checkpoint_callback])"
      ],
      "execution_count": 0,
      "outputs": [
        {
          "output_type": "stream",
          "text": [
            "Epoch 1/40\n",
            "447/447 [==============================] - 74s 166ms/step - loss: 0.4165\n",
            "Epoch 2/40\n",
            "447/447 [==============================] - 74s 166ms/step - loss: 0.4146\n",
            "Epoch 3/40\n",
            "447/447 [==============================] - 74s 166ms/step - loss: 0.4133\n",
            "Epoch 4/40\n",
            "447/447 [==============================] - 74s 166ms/step - loss: 0.4124\n",
            "Epoch 5/40\n",
            "447/447 [==============================] - 74s 166ms/step - loss: 0.4108\n",
            "Epoch 6/40\n",
            "447/447 [==============================] - 80s 180ms/step - loss: 0.4097\n",
            "Epoch 7/40\n",
            "447/447 [==============================] - 74s 167ms/step - loss: 0.4090\n",
            "Epoch 8/40\n",
            "447/447 [==============================] - 74s 166ms/step - loss: 0.4080\n",
            "Epoch 9/40\n",
            "447/447 [==============================] - 74s 166ms/step - loss: 0.4067\n",
            "Epoch 10/40\n",
            "447/447 [==============================] - 74s 166ms/step - loss: 0.4054\n",
            "Epoch 11/40\n",
            "447/447 [==============================] - 74s 166ms/step - loss: 0.4042\n",
            "Epoch 12/40\n",
            "447/447 [==============================] - 74s 166ms/step - loss: 0.4033\n",
            "Epoch 13/40\n",
            "447/447 [==============================] - 75s 167ms/step - loss: 0.4026\n",
            "Epoch 14/40\n",
            "447/447 [==============================] - 74s 166ms/step - loss: 0.4015\n",
            "Epoch 15/40\n",
            "447/447 [==============================] - 74s 167ms/step - loss: 0.4006\n",
            "Epoch 16/40\n",
            "447/447 [==============================] - 75s 167ms/step - loss: 0.3998\n",
            "Epoch 17/40\n",
            "447/447 [==============================] - 74s 167ms/step - loss: 0.3992\n",
            "Epoch 18/40\n",
            "447/447 [==============================] - 75s 167ms/step - loss: 0.3980\n",
            "Epoch 19/40\n",
            "447/447 [==============================] - 74s 166ms/step - loss: 0.3975\n",
            "Epoch 20/40\n",
            "447/447 [==============================] - 74s 166ms/step - loss: 0.3969\n",
            "Epoch 21/40\n",
            "447/447 [==============================] - 74s 166ms/step - loss: 0.3958\n",
            "Epoch 22/40\n",
            "447/447 [==============================] - 75s 167ms/step - loss: 0.3954\n",
            "Epoch 23/40\n",
            "447/447 [==============================] - 74s 166ms/step - loss: 0.3944\n",
            "Epoch 24/40\n",
            "447/447 [==============================] - 74s 165ms/step - loss: 0.3935\n",
            "Epoch 25/40\n",
            "447/447 [==============================] - 74s 165ms/step - loss: 0.3932\n",
            "Epoch 26/40\n",
            "447/447 [==============================] - 74s 164ms/step - loss: 0.3917\n",
            "Epoch 27/40\n",
            "447/447 [==============================] - 73s 164ms/step - loss: 0.3914\n",
            "Epoch 28/40\n",
            "447/447 [==============================] - 73s 164ms/step - loss: 0.3903\n",
            "Epoch 29/40\n",
            "447/447 [==============================] - 74s 165ms/step - loss: 0.3904\n",
            "Epoch 30/40\n",
            "447/447 [==============================] - 73s 164ms/step - loss: 0.3892\n",
            "Epoch 31/40\n",
            "447/447 [==============================] - 74s 166ms/step - loss: 0.3893\n",
            "Epoch 32/40\n",
            "447/447 [==============================] - 73s 164ms/step - loss: 0.3886\n",
            "Epoch 33/40\n",
            "447/447 [==============================] - 74s 165ms/step - loss: 0.3876\n",
            "Epoch 34/40\n",
            "447/447 [==============================] - 73s 164ms/step - loss: 0.3873\n",
            "Epoch 35/40\n",
            "447/447 [==============================] - 79s 177ms/step - loss: 0.3863\n",
            "Epoch 36/40\n",
            "447/447 [==============================] - 74s 165ms/step - loss: 0.3859\n",
            "Epoch 37/40\n",
            "447/447 [==============================] - 75s 167ms/step - loss: 0.3860\n",
            "Epoch 38/40\n",
            "447/447 [==============================] - 75s 168ms/step - loss: 0.3851\n",
            "Epoch 39/40\n",
            "447/447 [==============================] - 75s 168ms/step - loss: 0.3849\n",
            "Epoch 40/40\n",
            "447/447 [==============================] - 75s 167ms/step - loss: 0.3841\n"
          ],
          "name": "stdout"
        }
      ]
    },
    {
      "cell_type": "code",
      "metadata": {
        "id": "d8XOGqbCRdr_",
        "colab_type": "code",
        "outputId": "abb7323d-1232-446b-81f6-5735341f5249",
        "colab": {
          "base_uri": "https://localhost:8080/",
          "height": 265
        }
      },
      "source": [
        "import matplotlib.pyplot as plt\n",
        "\n",
        "# Plot training loss values\n",
        "plt.plot(history.history['loss'])\n",
        "plt.show()"
      ],
      "execution_count": 0,
      "outputs": [
        {
          "output_type": "display_data",
          "data": {
            "image/png": "[encoded data removed]",
            "text/plain": [
              "<Figure size 432x288 with 1 Axes>"
            ]
          },
          "metadata": {
            "tags": [],
            "needs_background": "light"
          }
        }
      ]
    },
    {
      "cell_type": "code",
      "metadata": {
        "id": "KdXyKXlFDpCC",
        "colab_type": "code",
        "colab": {}
      },
      "source": [
        "# since we specified batch size, we have to rebuild model for individual sample generation wtih batch-size 1\n",
        "weights = tf.train.latest_checkpoint('/content/gdrive/My Drive/training_regions_stop_3_nodropout/')\n",
        "model_a = build_model(embedding_dim, rnn_units, batch_size=1)\n",
        "\n",
        "model_a.load_weights(weights)\n",
        "\n",
        "model_a.build(tf.TensorShape([1, None]))"
      ],
      "execution_count": 0,
      "outputs": []
    },
    {
      "cell_type": "code",
      "metadata": {
        "id": "81-rTRoD5NhO",
        "colab_type": "code",
        "colab": {}
      },
      "source": [
        "import random\n",
        "def generate_text(model, start_region, start_string):\n",
        "\n",
        "  num_generate = 20\n",
        "  input_region = region_keys[start_region]\n",
        "\n",
        "  input_eval = [char_indices[s] for s in start_string]\n",
        "  input_eval = [input_region] + input_eval\n",
        "  input_eval = tf.expand_dims(input_eval, 0)\n",
        "\n",
        "  text_generated = []\n",
        "\n",
        "  temperature = 0.5\n",
        "\n",
        "  model.reset_states()\n",
        "  for i in range(num_generate):\n",
        "      predictions = model(input_eval)\n",
        "\n",
        "      predictions = tf.squeeze(predictions, 0)\n",
        "\n",
        "      predictions = predictions / temperature\n",
        "      predicted_id = tf.random.categorical(predictions, num_samples=1)[-1,0].numpy()\n",
        "\n",
        "      input_eval = tf.expand_dims([predicted_id], 0)\n",
        "      if predicted_id == char_indices['|']: # halt if reach EOL\n",
        "        break\n",
        "      text_generated.append(indices_char[predicted_id])\n",
        "\n",
        "  return (start_string + ''.join(text_generated))"
      ],
      "execution_count": 0,
      "outputs": []
    },
    {
      "cell_type": "code",
      "metadata": {
        "id": "4LbA35kV67P5",
        "colab_type": "code",
        "outputId": "95d34300-6adf-44bf-ef8c-b28ed3dbeefe",
        "colab": {
          "base_uri": "https://localhost:8080/",
          "height": 454
        }
      },
      "source": [
        "import string\n",
        "for letter in string.ascii_uppercase:\n",
        "  print(generate_text(model_a, \"West\", letter))"
      ],
      "execution_count": 23,
      "outputs": [
        {
          "output_type": "stream",
          "text": [
            "Anton City\n",
            "Bruch\n",
            "Creston\n",
            "Dandon\n",
            "Enitt\n",
            "Fardell\n",
            "Gondon\n",
            "Highland\n",
            "Ilen\n",
            "Jencho\n",
            "Kanson\n",
            "Lake Moralet\n",
            "Morrison\n",
            "New River\n",
            "Owing\n",
            "Pillesburg\n",
            "Qulon\n",
            "Rockwood\n",
            "Starford\n",
            "Tount Lakes Bay\n",
            "University\n",
            "Vardelm\n",
            "Walton City\n",
            "Xartins\n",
            "Yakesville\n",
            "Zaws\n"
          ],
          "name": "stdout"
        }
      ]
    },
    {
      "cell_type": "code",
      "metadata": {
        "id": "MYqv5ERt7Cev",
        "colab_type": "code",
        "outputId": "a105d65a-1e29-42c5-b48d-f8e18854e79d",
        "colab": {
          "base_uri": "https://localhost:8080/",
          "height": 454
        }
      },
      "source": [
        "for letter in string.ascii_uppercase:\n",
        "  print(generate_text(model_a, \"South\", letter))"
      ],
      "execution_count": 24,
      "outputs": [
        {
          "output_type": "stream",
          "text": [
            "Anthonton\n",
            "Berdon\n",
            "Collinsville\n",
            "Danall\n",
            "Ecklin\n",
            "Friends\n",
            "Glandover\n",
            "Hartham\n",
            "Indian Heights\n",
            "Jakesville\n",
            "Kanson\n",
            "Lake Morton Center\n",
            "Martinsburg\n",
            "Newardtown\n",
            "Oakland\n",
            "Pontago\n",
            "Quinta\n",
            "Rock City\n",
            "St. John\n",
            "Tengeva\n",
            "University\n",
            "Villa\n",
            "Walton\n",
            "Xontagom\n",
            "Yassville\n",
            "Zanisville\n"
          ],
          "name": "stdout"
        }
      ]
    },
    {
      "cell_type": "code",
      "metadata": {
        "id": "PRWtkPpN_KgP",
        "colab_type": "code",
        "outputId": "774199ae-1f90-47d5-de38-a04439a52a94",
        "colab": {
          "base_uri": "https://localhost:8080/",
          "height": 454
        }
      },
      "source": [
        "for letter in string.ascii_uppercase:\n",
        "  print(generate_text(model_a, \"Northeast\", letter))"
      ],
      "execution_count": 0,
      "outputs": [
        {
          "output_type": "stream",
          "text": [
            "Amoler\n",
            "Burkettsville\n",
            "Cranerbeton\n",
            "Dayville\n",
            "Edgunsville\n",
            "Fleasad\n",
            "Gratson\n",
            "Herding\n",
            "Isganom\n",
            "Juckson\n",
            "Kenla Vista\n",
            "Lake Melbrs\n",
            "Mancula\n",
            "Necta Cowm Ris\n",
            "Ospood\n",
            "Payson\n",
            "QElmmore\n",
            "Riverview\n",
            "SRanton\n",
            "Tourtland\n",
            "University Claces\n",
            "Vannaud\n",
            "Waldwell\n",
            "Xenia\n",
            "Younezsville\n",
            "Zandoll\n"
          ],
          "name": "stdout"
        }
      ]
    },
    {
      "cell_type": "code",
      "metadata": {
        "id": "9Y2eupQ9BFpC",
        "colab_type": "code",
        "outputId": "497160a0-e228-40cd-cf15-ce2ad8a5a859",
        "colab": {
          "base_uri": "https://localhost:8080/",
          "height": 454
        }
      },
      "source": [
        "for letter in string.ascii_uppercase:\n",
        "  print(generate_text(model_a, \"Midwest\", letter))"
      ],
      "execution_count": 25,
      "outputs": [
        {
          "output_type": "stream",
          "text": [
            "Athima\n",
            "Berville\n",
            "Collingsville\n",
            "Denison\n",
            "Edgerton\n",
            "Flatmon\n",
            "Granger\n",
            "Hardin\n",
            "Ishia\n",
            "Janesville\n",
            "Kentland\n",
            "Lake Montagulia\n",
            "Manistee\n",
            "Newark\n",
            "Okala\n",
            "Pennsboro\n",
            "Qulon\n",
            "Rocky Lake\n",
            "Spring Hill\n",
            "Tansilla\n",
            "University Creek\n",
            "Vine Point\n",
            "Walton\n",
            "Xayson\n",
            "Yarmouth\n",
            "Zonder\n"
          ],
          "name": "stdout"
        }
      ]
    },
    {
      "cell_type": "code",
      "metadata": {
        "id": "nr8C4YbsG7GF",
        "colab_type": "code",
        "colab": {}
      },
      "source": [
        " # Region comparisons\n",
        "combined_arr = np.asarray(df[\"city\"] + df[\"region\"])\n",
        "city_arr = np.asarray(df[\"city\"])\n",
        "def compare(region):\n",
        "  name_list = []\n",
        "  region_match = 1\n",
        "  overall_match = 0\n",
        "\n",
        "  region_count = df['region'].value_counts()[region]\n",
        "  overall_count = sum(df['region'].value_counts()) - region_count\n",
        "  for i in range(1000):\n",
        "    name_list.append(generate_text(model_a, region, random.choice(string.ascii_uppercase)))\n",
        "  for name in name_list:\n",
        "    if name + '|' + region in combined_arr:\n",
        "      region_match = region_match + 1\n",
        "    elif name + '|' in city_arr:\n",
        "      overall_match = overall_match + 1\n",
        "  print('Repeated', str(round((region_match/region_count)*100, 2)) + '%', 'cities in region')\n",
        "  print('Repeated', str(round((overall_match/overall_count)*100, 2)) + '%', 'cities in other regions')"
      ],
      "execution_count": 0,
      "outputs": []
    },
    {
      "cell_type": "code",
      "metadata": {
        "id": "8992RvbigHeI",
        "colab_type": "code",
        "colab": {
          "base_uri": "https://localhost:8080/",
          "height": 84
        },
        "outputId": "f4420d00-c013-4013-f459-74cbec4c250c"
      },
      "source": [
        "# Comparing shared city names in original dataset\n",
        "region_cities = {}\n",
        "for region in regions:\n",
        "    cities_array = set()\n",
        "    regionData = df[df['region']==region]\n",
        "    for city in regionData['city'].to_numpy():\n",
        "        cities_array.add(city)\n",
        "    region_cities[region] = cities_array\n",
        "\n",
        "for region in regions:\n",
        "  other_cities = set()\n",
        "  for key in region_cities.keys():\n",
        "    if key != region:\n",
        "      other_cities = set.union(other_cities, region_cities[key])\n",
        "  shared = len(set.intersection(region_cities[region], other_cities))\n",
        "  print(region + \": \", str(round(shared/len(region_cities[region]), 2)) + \"%\", \"of cities appear in other regions\")"
      ],
      "execution_count": 75,
      "outputs": [
        {
          "output_type": "stream",
          "text": [
            "South:  0.28% of cities appear in other regions\n",
            "West:  0.27% of cities appear in other regions\n",
            "Midwest:  0.33% of cities appear in other regions\n",
            "Northeast:  0.32% of cities appear in other regions\n"
          ],
          "name": "stdout"
        }
      ]
    },
    {
      "cell_type": "code",
      "metadata": {
        "id": "6BhEt67cOEa8",
        "colab_type": "code",
        "colab": {
          "base_uri": "https://localhost:8080/",
          "height": 101
        },
        "outputId": "e6a766b3-53f0-4127-ff8a-18e23be9a6f7"
      },
      "source": [
        "df['region'].value_counts()"
      ],
      "execution_count": 50,
      "outputs": [
        {
          "output_type": "execute_result",
          "data": {
            "text/plain": [
              "Midwest      9687\n",
              "South        9615\n",
              "West         5587\n",
              "Northeast    3758\n",
              "Name: region, dtype: int64"
            ]
          },
          "metadata": {
            "tags": []
          },
          "execution_count": 50
        }
      ]
    },
    {
      "cell_type": "code",
      "metadata": {
        "id": "tUkCwFUlKZgU",
        "colab_type": "code",
        "colab": {
          "base_uri": "https://localhost:8080/",
          "height": 50
        },
        "outputId": "181ac637-624e-4a8e-869c-1563253c4d5e"
      },
      "source": [
        "compare(\"West\") # Compare for generated data"
      ],
      "execution_count": 45,
      "outputs": [
        {
          "output_type": "stream",
          "text": [
            "Repeated 3.44% cities in region\n",
            "Repeated 0.56% cities in other regions\n"
          ],
          "name": "stdout"
        }
      ]
    },
    {
      "cell_type": "code",
      "metadata": {
        "id": "CbgqWTsvLwni",
        "colab_type": "code",
        "colab": {
          "base_uri": "https://localhost:8080/",
          "height": 50
        },
        "outputId": "c6b09947-22f8-47b6-d4cb-65291ea56424"
      },
      "source": [
        "compare(\"South\")"
      ],
      "execution_count": 46,
      "outputs": [
        {
          "output_type": "stream",
          "text": [
            "Repeated 2.83% cities in region\n",
            "Repeated 0.46% cities in other regions\n"
          ],
          "name": "stdout"
        }
      ]
    },
    {
      "cell_type": "code",
      "metadata": {
        "id": "3vJh4QJRMG52",
        "colab_type": "code",
        "colab": {
          "base_uri": "https://localhost:8080/",
          "height": 50
        },
        "outputId": "6253ad6e-68e6-463d-a2c7-74b132bf4984"
      },
      "source": [
        "compare(\"Northeast\")"
      ],
      "execution_count": 47,
      "outputs": [
        {
          "output_type": "stream",
          "text": [
            "Repeated 3.54% cities in region\n",
            "Repeated 0.77% cities in other regions\n"
          ],
          "name": "stdout"
        }
      ]
    },
    {
      "cell_type": "code",
      "metadata": {
        "id": "Ph1HflvZMJ57",
        "colab_type": "code",
        "colab": {
          "base_uri": "https://localhost:8080/",
          "height": 50
        },
        "outputId": "7ca3d7ac-1362-4fd8-a8d6-093fb8bbd9fa"
      },
      "source": [
        "compare(\"Midwest\")"
      ],
      "execution_count": 48,
      "outputs": [
        {
          "output_type": "stream",
          "text": [
            "Repeated 2.66% cities in region\n",
            "Repeated 0.49% cities in other regions\n"
          ],
          "name": "stdout"
        }
      ]
    }
  ]
}